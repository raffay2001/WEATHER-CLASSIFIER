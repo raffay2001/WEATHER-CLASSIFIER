{
 "cells": [
  {
   "cell_type": "code",
   "execution_count": 12,
   "metadata": {},
   "outputs": [],
   "source": [
    "from sklearn.linear_model import LogisticRegression\n",
    "from sklearn.model_selection import train_test_split, GridSearchCV\n",
    "from sklearn.metrics import accuracy_score\n",
    "import pandas as pd"
   ]
  },
  {
   "cell_type": "code",
   "execution_count": 13,
   "metadata": {},
   "outputs": [],
   "source": [
    "dataset = pd.read_csv('../../../data/cleaned_weather.csv')"
   ]
  },
  {
   "cell_type": "code",
   "execution_count": 14,
   "metadata": {},
   "outputs": [],
   "source": [
    "input = dataset.iloc[0:, 1:11]\n",
    "output = dataset['Summary']"
   ]
  },
  {
   "cell_type": "code",
   "execution_count": 15,
   "metadata": {},
   "outputs": [],
   "source": [
    "X_train, X_test, Y_train, Y_test = train_test_split(input, output, test_size=0.20, random_state=0)"
   ]
  },
  {
   "cell_type": "code",
   "execution_count": 26,
   "metadata": {},
   "outputs": [
    {
     "name": "stdout",
     "output_type": "stream",
     "text": [
      "Accuracy: 35.45509831745388\n"
     ]
    }
   ],
   "source": [
    "# Define the hyperparameters you want to search over\n",
    "hyperparameters = {\n",
    "    \"penalty\": [\"l1\", \"l2\", \"elasticnet\", \"none\"],\n",
    "    \"C\": [0.1, 1, 10],\n",
    "    \"fit_intercept\": [True, False],\n",
    "    \"class_weight\": [None, \"balanced\"],\n",
    "    \"solver\": [\"newton-cg\", \"lbfgs\", \"liblinear\", \"sag\", \"saga\"],\n",
    "    \"max_iter\": [100, 200, 500],\n",
    "    \"multi_class\": [\"auto\", \"ovr\", \"multinomial\"],\n",
    "}\n",
    "\n",
    "# Create a logistic regression model\n",
    "logistic_regression = LogisticRegression(\n",
    "    solver=\"lbfgs\",\n",
    "    penalty=\"l2\",\n",
    "    C=10,\n",
    "    class_weight=\"balanced\",\n",
    "    fit_intercept=True,\n",
    "    max_iter=100,\n",
    "    multi_class=\"auto\",\n",
    ")\n",
    "\n",
    "model = logistic_regression.fit(X_test, Y_test)\n",
    "\n",
    "Y_pred = model.predict(X_test)\n",
    "\n",
    "# Calculate accuracy\n",
    "accuracy = accuracy_score(Y_test, Y_pred)\n",
    "print(\"Accuracy:\", accuracy * 100)"
   ]
  },
  {
   "cell_type": "code",
   "execution_count": null,
   "metadata": {},
   "outputs": [],
   "source": []
  }
 ],
 "metadata": {
  "kernelspec": {
   "display_name": "ml-cep",
   "language": "python",
   "name": "python3"
  },
  "language_info": {
   "codemirror_mode": {
    "name": "ipython",
    "version": 3
   },
   "file_extension": ".py",
   "mimetype": "text/x-python",
   "name": "python",
   "nbconvert_exporter": "python",
   "pygments_lexer": "ipython3",
   "version": "3.10.0"
  },
  "orig_nbformat": 4
 },
 "nbformat": 4,
 "nbformat_minor": 2
}
